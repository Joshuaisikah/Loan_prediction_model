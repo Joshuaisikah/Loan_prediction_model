{
 "cells": [
  {
   "cell_type": "code",
   "execution_count": 7,
   "metadata": {},
   "outputs": [],
   "source": [
    "import pandas as pd\n",
    "from sklearn.model_selection import train_test_split\n",
    "from sklearn.compose import ColumnTransformer\n",
    "from sklearn.pipeline import Pipeline\n",
    "from sklearn.impute import SimpleImputer\n",
    "from sklearn.preprocessing import StandardScaler, OneHotEncoder\n",
    "from sklearn.ensemble import RandomForestClassifier\n",
    "from sklearn.metrics import accuracy_score\n",
    "from sklearn.compose import make_column_selector\n",
    "import numpy as np\n"
   ]
  },
  {
   "cell_type": "code",
   "execution_count": 9,
   "metadata": {},
   "outputs": [
    {
     "name": "stdout",
     "output_type": "stream",
     "text": [
      "Accuracy: 0.7967479674796748\n"
     ]
    }
   ],
   "source": [
    "\n",
    "# Load the data\n",
    "data = pd.read_csv('train_u6lujuX_CVtuZ9i.csv')\n",
    "\n",
    "# Convert 'Loan_Status' to numerical values\n",
    "data['Loan_Status'] = data['Loan_Status'].map({'Y': 1, 'N': 0})\n",
    "\n",
    "# Define preprocessor\n",
    "preprocessor = ColumnTransformer(\n",
    "    transformers=[\n",
    "        ('num', Pipeline([\n",
    "            ('imputer', SimpleImputer(strategy='mean')),\n",
    "            ('scaler', StandardScaler())\n",
    "        ]), make_column_selector(dtype_include=np.number)),\n",
    "        ('cat', Pipeline([\n",
    "            ('imputer', SimpleImputer(strategy='most_frequent')),\n",
    "            ('encoder', OneHotEncoder(handle_unknown='ignore'))  # Ignore unknown categories\n",
    "        ]), make_column_selector(dtype_include=object))\n",
    "    ])\n",
    "\n",
    "# Define pipeline with RandomForestClassifier\n",
    "clf = Pipeline(steps=[('preprocessor', preprocessor),\n",
    "                      ('classifier', RandomForestClassifier(random_state=82))])  # Use RandomForestClassifier\n",
    "\n",
    "# Split the data into features and target variable\n",
    "X = data.drop('Loan_Status', axis=1)\n",
    "y = data['Loan_Status']\n",
    "\n",
    "# Split the data into training and validation sets\n",
    "X_train, X_val, y_train, y_val = train_test_split(X, y, test_size=0.2, random_state=41)\n",
    "\n",
    "# Fit the model\n",
    "clf.fit(X_train, y_train)\n",
    "\n",
    "# Predict on the validation data\n",
    "y_pred = clf.predict(X_val)\n",
    "\n",
    "# Calculate and print the accuracy\n",
    "accuracy = accuracy_score(y_val, y_pred)\n",
    "print('Accuracy:', accuracy)"
   ]
  },
  {
   "cell_type": "markdown",
   "metadata": {},
   "source": []
  },
  {
   "cell_type": "markdown",
   "metadata": {},
   "source": []
  },
  {
   "cell_type": "code",
   "execution_count": 10,
   "metadata": {},
   "outputs": [
    {
     "data": {
      "image/png": "[encoded data removed]",
      "text/plain": [
       "<Figure size 640x480 with 1 Axes>"
      ]
     },
     "metadata": {},
     "output_type": "display_data"
    }
   ],
   "source": [
    "from sklearn.model_selection import cross_val_score\n",
    "import matplotlib.pyplot as plt\n",
    "\n",
    "# Fit the model\n",
    "clf.fit(X_train, y_train)\n",
    "\n",
    "# Calculate training accuracy\n",
    "train_acc = clf.score(X_train, y_train)\n",
    "\n",
    "# Calculate testing accuracy\n",
    "test_acc = clf.score(X_val, y_val)\n",
    "\n",
    "# Calculate cross-validation accuracy\n",
    "cv_acc = cross_val_score(clf, X, y, cv=5).mean()\n",
    "\n",
    "# Prepare data for plotting\n",
    "labels = ['Training Accuracy', 'Testing Accuracy', 'Cross-Validation Accuracy']\n",
    "values = [train_acc, test_acc, cv_acc]\n",
    "\n",
    "# Create bar chart\n",
    "plt.bar(labels, values)\n",
    "plt.ylabel('Accuracy')\n",
    "plt.title('Model Accuracy Comparison')\n",
    "plt.show()"
   ]
  },
  {
   "cell_type": "markdown",
   "metadata": {},
   "source": [
    "contion 10"
   ]
  },
  {
   "cell_type": "code",
   "execution_count": 11,
   "metadata": {},
   "outputs": [
    {
     "name": "stdout",
     "output_type": "stream",
     "text": [
      "Best parameters: {'classifier__max_depth': None, 'classifier__min_samples_split': 2, 'classifier__n_estimators': 100}\n",
      "Best score: 0.8125747268604411\n",
      "Accuracy: 0.7967479674796748\n"
     ]
    }
   ],
   "source": [
    "from sklearn.model_selection import GridSearchCV\n",
    "\n",
    "# Define the parameter grid\n",
    "param_grid = {\n",
    "    'classifier__n_estimators': [100, 200, 300],\n",
    "    'classifier__max_depth': [None, 5, 10],\n",
    "    'classifier__min_samples_split': [2, 5, 10]\n",
    "}\n",
    "\n",
    "# Create a GridSearchCV object\n",
    "grid_search = GridSearchCV(clf, param_grid, cv=5, scoring='accuracy')\n",
    "\n",
    "# Fit the model\n",
    "grid_search.fit(X_train, y_train)\n",
    "\n",
    "# Print the best parameters and the corresponding score\n",
    "print('Best parameters:', grid_search.best_params_)\n",
    "print('Best score:', grid_search.best_score_)\n",
    "\n",
    "# Predict on the validation data using the best model\n",
    "y_pred = grid_search.predict(X_val)\n",
    "\n",
    "# Calculate and print the accuracy\n",
    "accuracy = accuracy_score(y_val, y_pred)\n",
    "print('Accuracy:', accuracy)"
   ]
  },
  {
   "cell_type": "markdown",
   "metadata": {},
   "source": [
    "instruction 12-15\n"
   ]
  },
  {
   "cell_type": "code",
   "execution_count": 2,
   "metadata": {},
   "outputs": [],
   "source": [
    "from sklearn.model_selection import GridSearchCV\n"
   ]
  },
  {
   "cell_type": "code",
   "execution_count": 13,
   "metadata": {},
   "outputs": [],
   "source": [
    "def classify_new_data(new_data, model):\n",
    "    \"\"\"\n",
    "    Classify new data using the learned model.\n",
    "\n",
    "    Parameters:\n",
    "    new_data (pd.DataFrame): New data to classify.\n",
    "    model (sklearn.Pipeline): The trained model.\n",
    "\n",
    "    Returns:\n",
    "    int: The predicted class.\n",
    "    \"\"\"\n",
    "    # Ensure new_data is a DataFrame\n",
    "    if not isinstance(new_data, pd.DataFrame):\n",
    "        new_data = pd.DataFrame([new_data])\n",
    "\n",
    "    # Preprocess and predict\n",
    "    prediction = model.predict(new_data)\n",
    "\n",
    "    return prediction[0]"
   ]
  },
  {
   "cell_type": "code",
   "execution_count": 34,
   "metadata": {},
   "outputs": [
    {
     "name": "stdout",
     "output_type": "stream",
     "text": [
      "Invalid value. Please enter one of the following: Male, Female\n",
      "\n",
      "User's Input:\n",
      "Loan_ID: l090923\n",
      "Gender: Male\n",
      "Married: No\n",
      "Dependents: 1\n",
      "Education: Graduate\n",
      "Self_Employed: No\n",
      "ApplicantIncome: 543\n",
      "CoapplicantIncome: 343\n",
      "LoanAmount: 3453\n",
      "Loan_Amount_Term: 345\n",
      "Credit_History: 0\n",
      "Property_Area: Urban\n",
      "No, your loan is not likely to be approved.\n"
     ]
    }
   ],
   "source": [
    "def get_user_input():\n",
    "    \"\"\"\n",
    "    Get data from the user.\n",
    "\n",
    "    Returns:\n",
    "    dict: The data provided by the user.\n",
    "    \"\"\"\n",
    "    # Define the columns, the possible values for each column, and an example for each column\n",
    "    columns = {\n",
    "        'Loan_ID': {'values': None, 'example': 'LP001002'},\n",
    "        'Gender': {'values': ['Male', 'Female'], 'example': 'Male'},\n",
    "        'Married': {'values': ['Yes', 'No'], 'example': 'No'},\n",
    "        'Dependents': {'values': list(range(4)), 'example': '0'},\n",
    "        'Education': {'values': ['Graduate', 'Not Graduate'], 'example': 'Graduate'},\n",
    "        'Self_Employed': {'values': ['Yes', 'No'], 'example': 'No'},\n",
    "        'ApplicantIncome': {'values': None, 'example': '5849'},\n",
    "        'CoapplicantIncome': {'values': None, 'example': '0'},\n",
    "        'LoanAmount': {'values': None, 'example': '128'},\n",
    "        'Loan_Amount_Term': {'values': None, 'example': '360'},\n",
    "        'Credit_History': {'values': list(range(11)), 'example': '1'},  # Allow values from 0 to 10\n",
    "        'Property_Area': {'values': ['Urban', 'Semiurban', 'Rural'], 'example': 'Urban'}\n",
    "    }\n",
    "\n",
    "    # Get the data from the user\n",
    "    data = {}\n",
    "    for column, info in columns.items():\n",
    "        values = info['values']\n",
    "        example = info['example']\n",
    "        if values is None:\n",
    "            data[column] = input(f'Enter {column} (e.g., {example}): ')\n",
    "        else:\n",
    "            while True:\n",
    "                value = input(f'Enter {column} ({\", \".join(map(str, values))}, e.g., {example}): ')\n",
    "                if value in map(str, values):\n",
    "                    data[column] = value\n",
    "                    break\n",
    "                else:\n",
    "                    print(f'Invalid value. Please enter one of the following: {\", \".join(map(str, values))}')\n",
    "\n",
    "    return data\n",
    "def communicate_with_user(model):\n",
    "    \"\"\"\n",
    "    Communicate with the user to get data and classify it.\n",
    "\n",
    "    Parameters:\n",
    "    model (sklearn.Pipeline): The trained model.\n",
    "    \"\"\"\n",
    "    # Get data from the user\n",
    "    data = get_user_input()\n",
    "\n",
    "    # Print the user's input\n",
    "    print(\"\\nApplicant Data:\")\n",
    "    for key, value in data.items():\n",
    "        print(f\"{key}: {value}\")\n",
    "\n",
    "    # Classify the data\n",
    "    prediction = classify_new_data(data, model)\n",
    "\n",
    "    # Communicate the result to the user\n",
    "    if prediction == 1:\n",
    "        print('Yes, your loan is likely to be approved.')\n",
    "    else:\n",
    "        print('No, your loan is not likely to be approved.')\n",
    "\n",
    "# Example usage:\n",
    "communicate_with_user(grid_search.best_estimator_)"
   ]
  }
 ],
 "metadata": {
  "kernelspec": {
   "display_name": "Python 3",
   "language": "python",
   "name": "python3"
  },
  "language_info": {
   "codemirror_mode": {
    "name": "ipython",
    "version": 3
   },
   "file_extension": ".py",
   "mimetype": "text/x-python",
   "name": "python",
   "nbconvert_exporter": "python",
   "pygments_lexer": "ipython3",
   "version": "3.11.8"
  }
 },
 "nbformat": 4,
 "nbformat_minor": 2
}
